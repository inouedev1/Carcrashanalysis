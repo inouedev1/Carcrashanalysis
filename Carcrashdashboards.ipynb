{
  "nbformat": 4,
  "nbformat_minor": 0,
  "metadata": {
    "colab": {
      "provenance": [],
      "authorship_tag": "ABX9TyNWxb9X/a6bLfsCn8mAn0gA",
      "include_colab_link": true
    },
    "kernelspec": {
      "name": "python3",
      "display_name": "Python 3"
    },
    "language_info": {
      "name": "python"
    }
  },
  "cells": [
    {
      "cell_type": "markdown",
      "metadata": {
        "id": "view-in-github",
        "colab_type": "text"
      },
      "source": [
        "<a href=\"https://colab.research.google.com/github/inouedev1/Carcrashanalysis/blob/main/Carcrashdashboards.ipynb\" target=\"_parent\"><img src=\"https://colab.research.google.com/assets/colab-badge.svg\" alt=\"Open In Colab\"/></a>"
      ]
    },
    {
      "cell_type": "code",
      "execution_count": 1,
      "metadata": {
        "id": "79nnKnMplDyZ"
      },
      "outputs": [],
      "source": [
        "!pip install -q streamlit"
      ]
    },
    {
      "cell_type": "code",
      "source": [
        "!npm install -g localtunnel"
      ],
      "metadata": {
        "colab": {
          "base_uri": "https://localhost:8080/"
        },
        "id": "oqeBjdQOlZ1o",
        "outputId": "3c71ee6d-035e-4a2d-fb88-57a0cc922a55"
      },
      "execution_count": null,
      "outputs": [
        {
          "output_type": "stream",
          "name": "stdout",
          "text": [
            "\u001b[K\u001b[?25h/tools/node/bin/lt -> /tools/node/lib/node_modules/localtunnel/bin/lt.js\n",
            "+ localtunnel@2.0.2\n",
            "added 22 packages from 22 contributors in 1.007s\n"
          ]
        }
      ]
    },
    {
      "cell_type": "code",
      "source": [
        "import urllib\n",
        "print(\"SENHA/Enpoint IP para o túnel local:\",urllib.request.urlopen('https://ipv4.icanhazip.com').read().decode('utf8').strip(\"\\n\"))"
      ],
      "metadata": {
        "colab": {
          "base_uri": "https://localhost:8080/"
        },
        "id": "5J0S1z4LlhRF",
        "outputId": "40d5e745-0d33-4469-c07a-50f18dd804e0"
      },
      "execution_count": 2,
      "outputs": [
        {
          "output_type": "stream",
          "name": "stdout",
          "text": [
            "SENHA/Enpoint IP para o túnel local: 34.81.39.212\n"
          ]
        }
      ]
    },
    {
      "cell_type": "code",
      "source": [
        "%%writefile app.py\n",
        "import streamlit as st\n",
        "from carcrashanalysis import *\n",
        "st.set_page_config(layout='wide')\n",
        "st.title(\"Dashboard da Analise de Acidentes de carro no estado de Monroe County(Nova Yorque) \")\n",
        "aba1, aba2, aba3, aba4 = st.tabs(['Dataset', 'Dashboards de préanalise', 'Dashboards de analise de caso', 'Dashboard nada tendencioso'])\n",
        "with aba2:\n",
        "  coluna1, coluna2 = st.columns(2)\n",
        "  with coluna1:\n",
        "      st.plotly_chart(grafico_casos_ano, use_container_width=True)\n",
        "      st.plotly_chart(grafico_casos_semana, use_container_width=True)\n",
        "      st.plotly_chart(grafico_casos_hora, use_container_width=True)\n",
        "  with coluna2:\n",
        "      st.plotly_chart(grafico_casos_ferimento, use_container_width=True)\n",
        "      st.plotly_chart(grafico_casos_causa_histo, use_container_width=True)\n",
        "      st.plotly_chart(grafico_casos_causa_pizza, use_container_width=True)\n",
        "with aba3:\n",
        "  coluna1, coluna2 = st.columns(2)\n",
        "  with coluna1:\n",
        "      st.plotly_chart(grafico_casos_causa_mais4, use_container_width=True)\n",
        "      st.plotly_chart(grafico_ferimento_porcentagem, use_container_width=True)\n",
        "  with coluna2:\n",
        "      st.plotly_chart(grafico_casos_causa_mais4, use_container_width=True)\n",
        "with aba4:\n",
        "    st.plotly_chart(grafico_comparacao, use_container_width=True)\n",
        "st.sidebar.title('Filtro')\n",
        "todas_colunas = df.columns.tolist()\n",
        "colunas_dataset = st.sidebar.multiselect('Selecione as colunas:', todas_colunas, default=todas_colunas)\n",
        "df_filtro = df[colunas_dataset]\n",
        "st.write(df_filtro)"
      ],
      "metadata": {
        "colab": {
          "base_uri": "https://localhost:8080/"
        },
        "id": "tyBld-TNljCx",
        "outputId": "fc5f2f3c-7eeb-4383-f7e4-c08e1ee5dd58"
      },
      "execution_count": 21,
      "outputs": [
        {
          "output_type": "stream",
          "name": "stdout",
          "text": [
            "Overwriting app.py\n"
          ]
        }
      ]
    },
    {
      "cell_type": "code",
      "source": [
        "## !streamlit run app.py &>/content/logs.txt & npx localtunnel --port 8501 esse amigão não estava funcionando"
      ],
      "metadata": {
        "colab": {
          "base_uri": "https://localhost:8080/"
        },
        "id": "F3oK7ZYCnXfY",
        "outputId": "66b77338-1f25-43a2-cc41-40dbd2b25913"
      },
      "execution_count": 41,
      "outputs": [
        {
          "output_type": "stream",
          "name": "stdout",
          "text": [
            "\u001b[K\u001b[?25hnpx: installed 22 in 3.618s\n",
            "^C\n"
          ]
        }
      ]
    },
    {
      "cell_type": "code",
      "source": [
        "!pip install -q streamlit\n",
        "!pip install pyngrok==4.1.1\n",
        "\n",
        "from pyngrok import ngrok\n"
      ],
      "metadata": {
        "colab": {
          "base_uri": "https://localhost:8080/"
        },
        "id": "0W97mUn59EMu",
        "outputId": "d736c0d9-c46d-44ae-b9ce-4c6ce1838eab"
      },
      "execution_count": 4,
      "outputs": [
        {
          "output_type": "stream",
          "name": "stdout",
          "text": [
            "Requirement already satisfied: pyngrok==4.1.1 in /usr/local/lib/python3.10/dist-packages (4.1.1)\n",
            "Requirement already satisfied: future in /usr/local/lib/python3.10/dist-packages (from pyngrok==4.1.1) (0.18.3)\n",
            "Requirement already satisfied: PyYAML in /usr/local/lib/python3.10/dist-packages (from pyngrok==4.1.1) (6.0.1)\n"
          ]
        }
      ]
    },
    {
      "cell_type": "code",
      "source": [
        "!streamlit run app.py\n"
      ],
      "metadata": {
        "colab": {
          "base_uri": "https://localhost:8080/"
        },
        "id": "kS2dDj_68zdU",
        "outputId": "fccc0db1-f2c8-44a3-af1e-ca19342bfe4e"
      },
      "execution_count": 5,
      "outputs": [
        {
          "output_type": "stream",
          "name": "stdout",
          "text": [
            "\n",
            "Collecting usage statistics. To deactivate, set browser.gatherUsageStats to false.\n",
            "\u001b[0m\n",
            "\u001b[0m\n",
            "\u001b[34m\u001b[1m  You can now view your Streamlit app in your browser.\u001b[0m\n",
            "\u001b[0m\n",
            "\u001b[34m  Local URL: \u001b[0m\u001b[1mhttp://localhost:8501\u001b[0m\n",
            "\u001b[34m  Network URL: \u001b[0m\u001b[1mhttp://172.28.0.12:8501\u001b[0m\n",
            "\u001b[34m  External URL: \u001b[0m\u001b[1mhttp://34.81.39.212:8501\u001b[0m\n",
            "\u001b[0m\n",
            "\u001b[34m  Stopping...\u001b[0m\n",
            "\u001b[34m  Stopping...\u001b[0m\n"
          ]
        }
      ]
    },
    {
      "cell_type": "code",
      "source": [
        "# Execute o aplicativo Streamlit\n",
        "!streamlit run app.py &>/dev/null&\n",
        "from pyngrok import ngrok\n",
        "\n",
        "ngrok.set_auth_token(\"2hWlvVLxBxvV3fbl0WssKpEeSjt_4L8R7kRAEzLwPDEBAQ48d\")\n",
        "\n",
        "# Inicie o ngrok e exponha a porta 8501\n",
        "ngrok_tunnel = ngrok.connect(port='8501')\n",
        "# Imprima o valor de ngrok_tunnel\n",
        "print('Valor de ngrok_tunnel:', ngrok_tunnel)\n",
        "\n",
        "\n",
        "# Mantenha o Colab em execução\n",
        "import time\n",
        "time.sleep(3600)\n"
      ],
      "metadata": {
        "colab": {
          "base_uri": "https://localhost:8080/"
        },
        "id": "SlD0RKYX9VKU",
        "outputId": "48f47b91-2723-4f11-c3b6-5a2f8713d5ef"
      },
      "execution_count": null,
      "outputs": [
        {
          "output_type": "stream",
          "name": "stderr",
          "text": [
            "WARNING:pyngrok.process:t=2024-06-07T00:07:52+0000 lvl=warn msg=\"ngrok config file found at both XDG and legacy locations, using XDG location\" xdg_path=/root/.config/ngrok/ngrok.yml legacy_path=/root/.ngrok2/ngrok.yml\n",
            "\n"
          ]
        },
        {
          "output_type": "stream",
          "name": "stdout",
          "text": [
            "Valor de ngrok_tunnel: http://46e5-34-81-39-212.ngrok-free.app\n"
          ]
        }
      ]
    }
  ]
}